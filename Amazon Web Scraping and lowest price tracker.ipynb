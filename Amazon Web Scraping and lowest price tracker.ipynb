{
 "cells": [
  {
   "cell_type": "markdown",
   "id": "e36d8ab8-99c0-47c1-acaa-1a9ed3f1672e",
   "metadata": {},
   "source": [
    "AMAZON WEB SCRAPER PROJECT "
   ]
  },
  {
   "cell_type": "code",
   "execution_count": 6,
   "id": "0a926653-6556-4f6b-b22c-878168cffeb3",
   "metadata": {},
   "outputs": [],
   "source": [
    "# import libraries \n",
    "\n",
    "from bs4 import BeautifulSoup\n",
    "import requests\n",
    "import time\n",
    "import datetime\n",
    "\n",
    "import smtplib"
   ]
  },
  {
   "cell_type": "code",
   "execution_count": 16,
   "id": "21c35201-14a8-4663-95b6-becb4bfba489",
   "metadata": {},
   "outputs": [
    {
     "name": "stdout",
     "output_type": "stream",
     "text": [
      "\n",
      "           iQOO Neo 10 (Titanium Chrome, 8GB RAM, 256GB Storage) | Snapdragon 8s Gen 4 Processor & SuperComputing Chip Q1 | 7000 mAh Battery | Segment’s Highest 144 FPS Gaming Smartphone\n",
      "          \n",
      "\n",
      "                                33,999\n",
      "                                \n",
      "                                 .\n",
      "                                \n",
      "\n"
     ]
    }
   ],
   "source": [
    "# Connect to Website and pull in data\n",
    "\n",
    "URL = 'https://www.amazon.in/iQOO-Snapdragon-Processor-SuperComputing-Smartphone/dp/B0F83LL1D2/ref=sr_1_2?crid=3P3A61L346HYF&dib=eyJ2IjoiMSJ9.xAEbTgLFcPD10c2AwB5THkvwRunlPhpMAnMP2nNDDkykF0F4wAE6Jc4Mb48mCQNOqRCNSqF_fQnxCeee5KTieOgRISWYO6sXLCGHV0EmnhLISz_J4TcxBDPruHhG6D6urrmtqdVAkOEYbKyjrSGcSjtLwasqKc-kn_ZRC6Lgq5G-H0Sj-D0w2LkZu3hoaT_KINGHL4KJTQJyy9WX82WySoNL8r4D1cAYm8esSnYeNgA.9dt4vk8yIqOt4b5dXqjxZTVYjujqs9NtBlZ2Spk651E&dib_tag=se&keywords=iqoo%2B10&qid=1751784352&sprefix=iqoo%2B%2Caps%2C461&sr=8-2&th=1'\n",
    "headers = {\"User-Agent\": \"Mozilla/5.0 (Windows NT 10.0; Win64; x64) AppleWebKit/537.36 (KHTML, like Gecko) Chrome/78.0.3904.108 Safari/537.36\", \"Accept-Encoding\":\"gzip, deflate\", \"Accept\":\"text/html,application/xhtml+xml,application/xml;q=0.9,*/*;q=0.8\", \"DNT\":\"1\",\"Connection\":\"close\", \"Upgrade-Insecure-Requests\":\"1\"}\n",
    "\n",
    "page = requests.get(URL, headers=headers)\n",
    "\n",
    "soup1 = BeautifulSoup(page.content, \"html.parser\")\n",
    "\n",
    "soup2 = BeautifulSoup(soup1.prettify(), \"html.parser\")\n",
    "\n",
    "title = soup2.find(id=\"productTitle\").get_text()\n",
    "\n",
    "price = soup2.find(\"span\", class_=\"a-price-whole\").get_text()\n",
    "\n",
    "\n",
    "print(title)\n",
    "print(price)"
   ]
  },
  {
   "cell_type": "code",
   "execution_count": 19,
   "id": "9abf8057-edbe-45c8-9de4-8b4a0acda6d9",
   "metadata": {},
   "outputs": [
    {
     "name": "stdout",
     "output_type": "stream",
     "text": [
      "iQOO Neo 10 (Titanium Chrome, 8GB RAM, 256GB Storage) | Snapdragon 8s Gen 4 Processor & SuperComputing Chip Q1 | 7000 mAh Battery | Segment’s Highest 144 FPS Gaming Smartphone\n",
      "33999\n"
     ]
    }
   ],
   "source": [
    "# Clean up the data a little bit\n",
    "\n",
    "title = title.strip()\n",
    "price = price.strip()\n",
    "\n",
    "# Optional: clean price to pure digits\n",
    "#import re\n",
    "#price_cleaned = re.sub(r\"[^\\d]\", \"\", price)\n",
    "\n",
    "print(title)\n",
    "print(price_cleaned)"
   ]
  },
  {
   "cell_type": "code",
   "execution_count": 14,
   "id": "707e5edb-86ef-4d28-b9b0-ca1524d5387a",
   "metadata": {},
   "outputs": [
    {
     "name": "stdout",
     "output_type": "stream",
     "text": [
      "2025-07-06\n"
     ]
    }
   ],
   "source": [
    "# Create a Timestamp for your output to track when data was collected\n",
    "\n",
    "import datetime\n",
    "\n",
    "today = datetime.date.today()\n",
    "\n",
    "print(today)"
   ]
  },
  {
   "cell_type": "code",
   "execution_count": 20,
   "id": "82bcf389-0622-4779-913e-e521995d2bac",
   "metadata": {},
   "outputs": [],
   "source": [
    "# Create CSV and write headers and data into the file\n",
    "\n",
    "import csv \n",
    "\n",
    "header = ['Title', 'Price', 'Date']\n",
    "data = [title, price, today]\n",
    "\n",
    "\n",
    "with open('AmazonWebScraperDataset.csv', 'w', newline='', encoding='UTF8') as f:\n",
    "    writer = csv.writer(f)\n",
    "    writer.writerow(header)\n",
    "    writer.writerow(data)"
   ]
  },
  {
   "cell_type": "code",
   "execution_count": 21,
   "id": "5ad3bbae-3e7e-470d-ac32-2ec05a55461a",
   "metadata": {},
   "outputs": [
    {
     "name": "stdout",
     "output_type": "stream",
     "text": [
      "                                               Title  \\\n",
      "0  iQOO Neo 10 (Titanium Chrome, 8GB RAM, 256GB S...   \n",
      "\n",
      "                                               Price        Date  \n",
      "0  33,999\\n                                \\n    ...  2025-07-06  \n"
     ]
    }
   ],
   "source": [
    "import pandas as pd\n",
    "\n",
    "df = pd.read_csv(r'/Users/kamal/Cpp/Python/AmazonWebScraperDataset.csv')\n",
    "\n",
    "print(df)"
   ]
  },
  {
   "cell_type": "code",
   "execution_count": 22,
   "id": "3aabf91a-9280-4bed-a55a-97b2075c22a4",
   "metadata": {},
   "outputs": [],
   "source": [
    "#Now we are appending data to the csv\n",
    "\n",
    "with open('AmazonWebScraperDataset.csv', 'a+', newline='', encoding='UTF8') as f:\n",
    "    writer = csv.writer(f)\n",
    "    writer.writerow(data)"
   ]
  },
  {
   "cell_type": "code",
   "execution_count": 23,
   "id": "fd05c106-ecb0-4340-826d-be99b1d805b5",
   "metadata": {},
   "outputs": [
    {
     "data": {
      "text/html": [
       "<div>\n",
       "<style scoped>\n",
       "    .dataframe tbody tr th:only-of-type {\n",
       "        vertical-align: middle;\n",
       "    }\n",
       "\n",
       "    .dataframe tbody tr th {\n",
       "        vertical-align: top;\n",
       "    }\n",
       "\n",
       "    .dataframe thead th {\n",
       "        text-align: right;\n",
       "    }\n",
       "</style>\n",
       "<table border=\"1\" class=\"dataframe\">\n",
       "  <thead>\n",
       "    <tr style=\"text-align: right;\">\n",
       "      <th></th>\n",
       "      <th>Title</th>\n",
       "      <th>Price</th>\n",
       "      <th>Date</th>\n",
       "    </tr>\n",
       "  </thead>\n",
       "  <tbody>\n",
       "    <tr>\n",
       "      <th>0</th>\n",
       "      <td>iQOO Neo 10 (Titanium Chrome, 8GB RAM, 256GB S...</td>\n",
       "      <td>33,999\\n                                \\n    ...</td>\n",
       "      <td>2025-07-06</td>\n",
       "    </tr>\n",
       "  </tbody>\n",
       "</table>\n",
       "</div>"
      ],
      "text/plain": [
       "                                               Title  \\\n",
       "0  iQOO Neo 10 (Titanium Chrome, 8GB RAM, 256GB S...   \n",
       "\n",
       "                                               Price        Date  \n",
       "0  33,999\\n                                \\n    ...  2025-07-06  "
      ]
     },
     "execution_count": 23,
     "metadata": {},
     "output_type": "execute_result"
    }
   ],
   "source": [
    "df"
   ]
  },
  {
   "cell_type": "code",
   "execution_count": 26,
   "id": "7cf880d7-34d9-4277-b038-7314e1ba5dc8",
   "metadata": {},
   "outputs": [],
   "source": [
    "#Combine all of the above code into one function\n",
    "\n",
    "\n",
    "def check_price():\n",
    "    URL = 'https://www.amazon.in/iQOO-Snapdragon-Processor-SuperComputing-Smartphone/dp/B0F83LL1D2/ref=sr_1_2?crid=3P3A61L346HYF&dib=eyJ2IjoiMSJ9.xAEbTgLFcPD10c2AwB5THkvwRunlPhpMAnMP2nNDDkykF0F4wAE6Jc4Mb48mCQNOqRCNSqF_fQnxCeee5KTieOgRISWYO6sXLCGHV0EmnhLISz_J4TcxBDPruHhG6D6urrmtqdVAkOEYbKyjrSGcSjtLwasqKc-kn_ZRC6Lgq5G-H0Sj-D0w2LkZu3hoaT_KINGHL4KJTQJyy9WX82WySoNL8r4D1cAYm8esSnYeNgA.9dt4vk8yIqOt4b5dXqjxZTVYjujqs9NtBlZ2Spk651E&dib_tag=se&keywords=iqoo%2B10&qid=1751784352&sprefix=iqoo%2B%2Caps%2C461&sr=8-2&th=1'\n",
    "    headers = {\"User-Agent\": \"Mozilla/5.0 (Windows NT 10.0; Win64; x64) AppleWebKit/537.36 (KHTML, like Gecko) Chrome/78.0.3904.108 Safari/537.36\", \"Accept-Encoding\":\"gzip, deflate\", \"Accept\":\"text/html,application/xhtml+xml,application/xml;q=0.9,*/*;q=0.8\", \"DNT\":\"1\",\"Connection\":\"close\", \"Upgrade-Insecure-Requests\":\"1\"}\n",
    "\n",
    "    page = requests.get(URL, headers=headers)\n",
    "\n",
    "    soup1 = BeautifulSoup(page.content, \"html.parser\")\n",
    "\n",
    "    soup2 = BeautifulSoup(soup1.prettify(), \"html.parser\")\n",
    "\n",
    "    title = soup2.find(id=\"productTitle\").get_text()\n",
    "\n",
    "    price = soup2.find(\"span\", class_=\"a-price-whole\").get_text()\n",
    "\n",
    "    import datetime\n",
    "\n",
    "    today = datetime.date.today()\n",
    "    \n",
    "    import csv \n",
    "\n",
    "    header = ['Title', 'Price', 'Date']\n",
    "    data = [title, price, today]\n",
    "\n",
    "    with open('AmazonWebScraperDataset.csv', 'a+', newline='', encoding='UTF8') as f:\n",
    "        writer = csv.writer(f)\n",
    "        writer.writerow(data)"
   ]
  },
  {
   "cell_type": "code",
   "execution_count": null,
   "id": "db8e4ddf-0422-44cd-a11d-d5b7e038aeb9",
   "metadata": {},
   "outputs": [],
   "source": [
    "# Runs check_price after a set time (Here 1 day) and inputs data into your CSV\n",
    "\n",
    "while(True):\n",
    "    check_price()\n",
    "    time.sleep(86400)\n",
    "    # for testing if we are able to update the csv after 2 secs.\n",
    "    #time.sleep(2) "
   ]
  },
  {
   "cell_type": "code",
   "execution_count": 29,
   "id": "f09df29a-6f64-4840-b94a-43d1709e58d4",
   "metadata": {},
   "outputs": [
    {
     "data": {
      "text/html": [
       "<div>\n",
       "<style scoped>\n",
       "    .dataframe tbody tr th:only-of-type {\n",
       "        vertical-align: middle;\n",
       "    }\n",
       "\n",
       "    .dataframe tbody tr th {\n",
       "        vertical-align: top;\n",
       "    }\n",
       "\n",
       "    .dataframe thead th {\n",
       "        text-align: right;\n",
       "    }\n",
       "</style>\n",
       "<table border=\"1\" class=\"dataframe\">\n",
       "  <thead>\n",
       "    <tr style=\"text-align: right;\">\n",
       "      <th></th>\n",
       "      <th>Title</th>\n",
       "      <th>Price</th>\n",
       "      <th>Date</th>\n",
       "    </tr>\n",
       "  </thead>\n",
       "  <tbody>\n",
       "    <tr>\n",
       "      <th>0</th>\n",
       "      <td>iQOO Neo 10 (Titanium Chrome, 8GB RAM, 256GB S...</td>\n",
       "      <td>33,999\\n                                \\n    ...</td>\n",
       "      <td>2025-07-06</td>\n",
       "    </tr>\n",
       "    <tr>\n",
       "      <th>1</th>\n",
       "      <td>iQOO Neo 10 (Titanium Chrome, 8GB RAM, 256GB S...</td>\n",
       "      <td>33,999\\n                                \\n    ...</td>\n",
       "      <td>2025-07-06</td>\n",
       "    </tr>\n",
       "    <tr>\n",
       "      <th>2</th>\n",
       "      <td>\\n           iQOO Neo 10 (Titanium Chrome, 8GB...</td>\n",
       "      <td>\\n                                33,999\\n    ...</td>\n",
       "      <td>2025-07-06</td>\n",
       "    </tr>\n",
       "  </tbody>\n",
       "</table>\n",
       "</div>"
      ],
      "text/plain": [
       "                                               Title  \\\n",
       "0  iQOO Neo 10 (Titanium Chrome, 8GB RAM, 256GB S...   \n",
       "1  iQOO Neo 10 (Titanium Chrome, 8GB RAM, 256GB S...   \n",
       "2  \\n           iQOO Neo 10 (Titanium Chrome, 8GB...   \n",
       "\n",
       "                                               Price        Date  \n",
       "0  33,999\\n                                \\n    ...  2025-07-06  \n",
       "1  33,999\\n                                \\n    ...  2025-07-06  \n",
       "2  \\n                                33,999\\n    ...  2025-07-06  "
      ]
     },
     "execution_count": 29,
     "metadata": {},
     "output_type": "execute_result"
    }
   ],
   "source": [
    "import pandas as pd\n",
    "\n",
    "df = pd.read_csv(r'/Users/kamal/Cpp/Python/AmazonWebScraperDataset.csv')\n",
    "\n",
    "df"
   ]
  },
  {
   "cell_type": "code",
   "execution_count": 31,
   "id": "ec2ea4b6-5b6f-43b4-83a7-bbbed81d9d57",
   "metadata": {},
   "outputs": [],
   "source": [
    "# send yourself an email when a price hits below a certain level\n",
    "\n",
    "import smtplib\n",
    "\n",
    "def send_mail():\n",
    "    sender_email = 'kamaljyotsingh@gmail.com'\n",
    "    receiver_email = 'kamaljyotsingh@gmail.com'  # You can change this to any recipient\n",
    "    app_password = 'xxxxxxxxxxxxxx'  # Use an App Password from Google Account settings\n",
    "\n",
    "    subject = \"The Smartphone you want is below Rs30,000! Now is your chance to buy!\"\n",
    "    body = \"\"\"\\\n",
    "Hey Kamal,\n",
    "\n",
    "This is the moment we have been waiting for. Now is your chance to pick up the Smartphone of your Choice. Don't mess it up!\n",
    "\n",
    "👉 Link here: https://www.amazon.in/iQOO-Snapdragon-Processor-SuperComputing-Smartphone/dp/B0F83LL1D2/ref=sr_1_2\n",
    "\"\"\"\n",
    "\n",
    "    msg = f\"Subject: {subject}\\n\\n{body}\"\n",
    "\n",
    "    try:\n",
    "        server = smtplib.SMTP_SSL('smtp.gmail.com', 465)\n",
    "        server.login(sender_email, app_password)\n",
    "        server.sendmail(sender_email, receiver_email, msg)\n",
    "        server.quit()\n",
    "        print(\"Email sent successfully!\")\n",
    "    except Exception as e:\n",
    "        print(\"Failed to send email:\", e)"
   ]
  },
  {
   "cell_type": "code",
   "execution_count": null,
   "id": "5be328f4-8578-4cd5-b8b6-eae6f4fdca9e",
   "metadata": {},
   "outputs": [],
   "source": []
  }
 ],
 "metadata": {
  "kernelspec": {
   "display_name": "Python (TF-M1)",
   "language": "python",
   "name": "tf-m1"
  },
  "language_info": {
   "codemirror_mode": {
    "name": "ipython",
    "version": 3
   },
   "file_extension": ".py",
   "mimetype": "text/x-python",
   "name": "python",
   "nbconvert_exporter": "python",
   "pygments_lexer": "ipython3",
   "version": "3.13.3"
  }
 },
 "nbformat": 4,
 "nbformat_minor": 5
}
